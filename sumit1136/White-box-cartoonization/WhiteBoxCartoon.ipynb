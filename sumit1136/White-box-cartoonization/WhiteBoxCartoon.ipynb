{
  "nbformat": 4,
  "nbformat_minor": 0,
  "metadata": {
    "colab": {
      "name": "WhiteBoxCartoon.ipynb",
      "provenance": [],
      "authorship_tag": "ABX9TyN4H5OvNcZnfqhI6hxII3u1",
      "include_colab_link": true
    },
    "kernelspec": {
      "name": "python3",
      "display_name": "Python 3"
    }
  },
  "cells": [
    {
      "cell_type": "markdown",
      "metadata": {
        "id": "view-in-github",
        "colab_type": "text"
      },
      "source": [
        "<a href=\"https://colab.research.google.com/github/sumit1136/cartoonify-1/blob/main/sumit1136/White-box-cartoonization/WhiteBoxCartoon.ipynb\" target=\"_parent\"><img src=\"https://colab.research.google.com/assets/colab-badge.svg\" alt=\"Open In Colab\"/></a>"
      ]
    },
    {
      "cell_type": "code",
      "metadata": {
        "id": "zZ7rRKhplMDk",
        "colab": {
          "base_uri": "https://localhost:8080/"
        },
        "outputId": "1f68dcb8-f0fa-444e-c85c-3127c4e0b8c6"
      },
      "source": [
        "%tensorflow_version 1.x"
      ],
      "execution_count": 1,
      "outputs": [
        {
          "output_type": "stream",
          "text": [
            "TensorFlow 1.x selected.\n"
          ],
          "name": "stdout"
        }
      ]
    },
    {
      "cell_type": "code",
      "metadata": {
        "colab": {
          "base_uri": "https://localhost:8080/"
        },
        "id": "YzCnHNJwns_J",
        "outputId": "6d3e893b-c8cc-49fe-ed6b-c2de36961af6"
      },
      "source": [
        "import os\r\n",
        "import cv2\r\n",
        "import numpy as np\r\n",
        "import tensorflow as tf \r\n",
        "import network\r\n",
        "import guided_filter\r\n",
        "from tqdm import tqdm"
      ],
      "execution_count": 2,
      "outputs": [
        {
          "output_type": "stream",
          "text": [
            "WARNING:tensorflow:\n",
            "The TensorFlow contrib module will not be included in TensorFlow 2.0.\n",
            "For more information, please see:\n",
            "  * https://github.com/tensorflow/community/blob/master/rfcs/20180907-contrib-sunset.md\n",
            "  * https://github.com/tensorflow/addons\n",
            "  * https://github.com/tensorflow/io (for I/O related ops)\n",
            "If you depend on functionality not listed there, please file an issue.\n",
            "\n"
          ],
          "name": "stdout"
        }
      ]
    },
    {
      "cell_type": "code",
      "metadata": {
        "id": "XqQZuKd1oB15"
      },
      "source": [
        "def resize_crop(image):\r\n",
        "    h, w, c = np.shape(image)\r\n",
        "    if min(h, w) > 720:\r\n",
        "        if h > w:\r\n",
        "            h, w = int(720*h/w), 720\r\n",
        "        else:\r\n",
        "            h, w = 720, int(720*w/h)\r\n",
        "    image = cv2.resize(image, (w, h),\r\n",
        "                       interpolation=cv2.INTER_AREA)\r\n",
        "    h, w = (h//8)*8, (w//8)*8\r\n",
        "    image = image[:h, :w, :]\r\n",
        "    return image\r\n"
      ],
      "execution_count": 3,
      "outputs": []
    },
    {
      "cell_type": "code",
      "metadata": {
        "id": "oHQiOV5Cu-uy"
      },
      "source": [
        "def cartoonize(load_folder, save_folder, model_path):\r\n",
        "    input_photo = tf.placeholder(tf.float32, [1, None, None, 3])\r\n",
        "    network_out = network.unet_generator(input_photo)\r\n",
        "    final_out = guided_filter.guided_filter(input_photo, network_out, r=1, eps=5e-3)\r\n",
        "\r\n",
        "    all_vars = tf.trainable_variables()\r\n",
        "    gene_vars = [var for var in all_vars if 'generator' in var.name]\r\n",
        "    saver = tf.train.Saver(var_list=gene_vars)\r\n",
        "    \r\n",
        "    config = tf.ConfigProto()\r\n",
        "    config.gpu_options.allow_growth = True\r\n",
        "    sess = tf.Session(config=config)\r\n",
        "\r\n",
        "    sess.run(tf.global_variables_initializer())\r\n",
        "    saver.restore(sess, tf.train.latest_checkpoint(model_path))\r\n",
        "    name_list = os.listdir(load_folder)\r\n",
        "    for name in tqdm(name_list):\r\n",
        "        try:\r\n",
        "            load_path = os.path.join(load_folder, name)\r\n",
        "            save_path = os.path.join(save_folder, name)\r\n",
        "            image = cv2.imread(load_path)\r\n",
        "            image = resize_crop(image)\r\n",
        "            batch_image = image.astype(np.float32)/127.5 - 1\r\n",
        "            batch_image = np.expand_dims(batch_image, axis=0)\r\n",
        "            output = sess.run(final_out, feed_dict={input_photo: batch_image})\r\n",
        "            output = (np.squeeze(output)+1)*127.5\r\n",
        "            output = np.clip(output, 0, 255).astype(np.uint8)\r\n",
        "            cv2.imwrite(save_path, output)\r\n",
        "        except:\r\n",
        "            print('cartoonize {} failed'.format(load_path))\r\n"
      ],
      "execution_count": 4,
      "outputs": []
    },
    {
      "cell_type": "code",
      "metadata": {
        "id": "HvbTIqSIvKU2"
      },
      "source": [
        "model_path = 'saved_models'\r\n",
        "load_folder = 'test_images'\r\n",
        "save_folder = 'cartoonized_images'"
      ],
      "execution_count": 5,
      "outputs": []
    },
    {
      "cell_type": "code",
      "metadata": {
        "colab": {
          "base_uri": "https://localhost:8080/"
        },
        "id": "PY6ICiVuvZrg",
        "outputId": "eeb50d5e-d4cd-4f22-c9a3-c25e2d45d044"
      },
      "source": [
        "if not os.path.exists(save_folder):\r\n",
        "    os.mkdir(save_folder)\r\n",
        "cartoonize(load_folder, save_folder, model_path)"
      ],
      "execution_count": 6,
      "outputs": [
        {
          "output_type": "stream",
          "text": [
            "WARNING:tensorflow:From /content/network.py:23: The name tf.variable_scope is deprecated. Please use tf.compat.v1.variable_scope instead.\n",
            "\n",
            "WARNING:tensorflow:From /tensorflow-1.15.2/python3.6/tensorflow_core/contrib/layers/python/layers/layers.py:1057: Layer.apply (from tensorflow.python.keras.engine.base_layer) is deprecated and will be removed in a future version.\n",
            "Instructions for updating:\n",
            "Please use `layer.__call__` method instead.\n",
            "WARNING:tensorflow:From /content/network.py:45: The name tf.image.resize_bilinear is deprecated. Please use tf.compat.v1.image.resize_bilinear instead.\n",
            "\n",
            "INFO:tensorflow:Restoring parameters from saved_models/model-33999\n"
          ],
          "name": "stdout"
        },
        {
          "output_type": "stream",
          "text": [
            "100%|██████████| 10/10 [00:33<00:00,  3.33s/it]\n"
          ],
          "name": "stderr"
        }
      ]
    },
    {
      "cell_type": "code",
      "metadata": {
        "id": "YJAjjGjxvl3N"
      },
      "source": [
        ""
      ],
      "execution_count": null,
      "outputs": []
    }
  ]
}